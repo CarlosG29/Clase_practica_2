{
 "cells": [
  {
   "cell_type": "code",
   "execution_count": 20,
   "metadata": {},
   "outputs": [
    {
     "name": "stdout",
     "output_type": "stream",
     "text": [
      "         ID                                               Name   Price  \\\n",
      "0  11530130                  2010 Toyota Rukus Build 2 AZE151R    9999   \n",
      "1  12190570  2021 Mercedes-Benz V 250 D Avantgarde MWB 447 ...  117990   \n",
      "2  12321855  2021 Mercedes-Benz Valente 116 CDI MWB RWD 447...   79990   \n",
      "3  12346971         2010 Mercedes-Benz E250 CDI Avantgarde 207   34990   \n",
      "4  12363884                       2016 Holden Cruze CD JH MY16   15990   \n",
      "\n",
      "           Brand    Model               Variant    Series  Year  Kilometers  \\\n",
      "0         Toyota    Rukus               Build 2   AZE151R  2010      263000   \n",
      "1  Mercedes-Benz        V  250 D Avantgarde MWB  447 MY21  2021          19   \n",
      "2  Mercedes-Benz  Valente       116 CDI MWB RWD  447 MY21  2021          24   \n",
      "3  Mercedes-Benz     E250        CDI Avantgarde       207  2010      120579   \n",
      "4         Holden    Cruze                    CD   JH MY16  2016       72506   \n",
      "\n",
      "          Type    Gearbox             Fuel         Status    CC  Color  \\\n",
      "0        Wagon  Automatic  Unleaded Petrol           Used  2362   Grey   \n",
      "1        Wagon  Automatic           Diesel   New In Stock  2143  Black   \n",
      "2        Wagon  Automatic           Diesel   New In Stock  2143  Black   \n",
      "3    Cabriolet  Automatic           Diesel           Used  2143  Black   \n",
      "4  Sportswagon  Automatic  Unleaded Petrol           Used  1796  White   \n",
      "\n",
      "   Seating Capacity  \n",
      "0                 5  \n",
      "1                 7  \n",
      "2                 8  \n",
      "3                 4  \n",
      "4                 5  \n"
     ]
    }
   ],
   "source": [
    "import pandas as pd\n",
    "import matplotlib.pyplot as plt\n",
    "import seaborn as sns\n",
    "from scipy import stats\n",
    "import numpy as np\n",
    "from sklearn.preprocessing import StandardScaler, MinMaxScaler\n",
    "\n",
    "# URL directa del archivo CSV en GitHub\n",
    "url = 'https://raw.githubusercontent.com/CarlosG29/AU_Car_info_DataSet/main/cars_info.csv'\n",
    "\n",
    "# Cargar el dataset directamente desde la URL de GitHub\n",
    "df = pd.read_csv(url)\n",
    "print(df.head())\n",
    "\n",
    "# Crear una copia del DataFrame original antes del preprocesamiento\n",
    "df_original = df.copy()\n"
   ]
  },
  {
   "cell_type": "code",
   "execution_count": 4,
   "metadata": {},
   "outputs": [
    {
     "name": "stdout",
     "output_type": "stream",
     "text": [
      "<class 'pandas.core.frame.DataFrame'>\n",
      "RangeIndex: 17048 entries, 0 to 17047\n",
      "Data columns (total 16 columns):\n",
      " #   Column            Non-Null Count  Dtype \n",
      "---  ------            --------------  ----- \n",
      " 0   ID                17048 non-null  int64 \n",
      " 1   Name              17048 non-null  object\n",
      " 2   Price             17048 non-null  int64 \n",
      " 3   Brand             17048 non-null  object\n",
      " 4   Model             17048 non-null  object\n",
      " 5   Variant           17048 non-null  object\n",
      " 6   Series            17048 non-null  object\n",
      " 7   Year              17048 non-null  int64 \n",
      " 8   Kilometers        17048 non-null  int64 \n",
      " 9   Type              17048 non-null  object\n",
      " 10  Gearbox           17048 non-null  object\n",
      " 11  Fuel              17048 non-null  object\n",
      " 12  Status            17048 non-null  object\n",
      " 13  CC                17048 non-null  int64 \n",
      " 14  Color             17048 non-null  object\n",
      " 15  Seating Capacity  17048 non-null  int64 \n",
      "dtypes: int64(6), object(10)\n",
      "memory usage: 2.1+ MB\n",
      "None\n",
      "                 ID          Price          Year    Kilometers            CC  \\\n",
      "count  1.704800e+04   17048.000000  17048.000000  1.704800e+04  17048.000000   \n",
      "mean   1.279027e+07   36777.778038   2015.481288  1.032314e+05   2491.830303   \n",
      "std    5.051111e+04   30305.015328      4.721591  8.041313e+04    881.985562   \n",
      "min    1.153013e+07    1000.000000   1989.000000  1.000000e+00    875.000000   \n",
      "25%    1.275715e+07   18800.000000   2013.000000  4.450225e+04   1987.000000   \n",
      "50%    1.280207e+07   29990.000000   2016.000000  8.845400e+04   2354.000000   \n",
      "75%    1.283131e+07   45990.000000   2019.000000  1.488735e+05   2981.000000   \n",
      "max    1.285246e+07  999000.000000   2022.000000  2.700000e+06   7300.000000   \n",
      "\n",
      "       Seating Capacity  \n",
      "count      17048.000000  \n",
      "mean           5.115849  \n",
      "std            1.121791  \n",
      "min            2.000000  \n",
      "25%            5.000000  \n",
      "50%            5.000000  \n",
      "75%            5.000000  \n",
      "max           14.000000  \n"
     ]
    }
   ],
   "source": [
    "# Exploración básica del dataset\n",
    "print(df.info())  # Información general del dataset\n",
    "print(df.describe())  # Estadísticas descriptivas de las variables numéricas"
   ]
  },
  {
   "cell_type": "code",
   "execution_count": 5,
   "metadata": {},
   "outputs": [
    {
     "name": "stdout",
     "output_type": "stream",
     "text": [
      "    Price  Year  Kilometers    CC          Brand    Model\n",
      "0    9999  2010      263000  2362         Toyota    Rukus\n",
      "1  117990  2021          19  2143  Mercedes-Benz        V\n",
      "2   79990  2021          24  2143  Mercedes-Benz  Valente\n",
      "3   34990  2010      120579  2143  Mercedes-Benz     E250\n",
      "4   15990  2016       72506  1796         Holden    Cruze\n"
     ]
    }
   ],
   "source": [
    "#  columnas importantes para el analisis\n",
    "columnas_importantes = ['Price', 'Year', 'Kilometers', 'CC', 'Brand', 'Model']\n",
    "\n",
    "# Mostrar las primeras filas de las columnas \n",
    "print(df[columnas_importantes].head())"
   ]
  },
  {
   "cell_type": "code",
   "execution_count": 7,
   "metadata": {},
   "outputs": [
    {
     "name": "stdout",
     "output_type": "stream",
     "text": [
      "Series([], dtype: int64)\n",
      "Valores faltantes después de la imputación:\n",
      "ID                  0\n",
      "Name                0\n",
      "Price               0\n",
      "Brand               0\n",
      "Model               0\n",
      "Variant             0\n",
      "Series              0\n",
      "Year                0\n",
      "Kilometers          0\n",
      "Type                0\n",
      "Gearbox             0\n",
      "Fuel                0\n",
      "Status              0\n",
      "CC                  0\n",
      "Color               0\n",
      "Seating Capacity    0\n",
      "dtype: int64\n"
     ]
    }
   ],
   "source": [
    "# valores faltantes\n",
    "missing_values = df.isnull().sum()\n",
    "\n",
    "# Mostrar solo las columnas que tienen valores faltantes\n",
    "print(missing_values[missing_values > 0])\n",
    "\n",
    "# Filtrar solo las columnas numéricas para imputación\n",
    "numerical_columns = df.select_dtypes(include=['number']).columns\n",
    "\n",
    "# Imputación de valores faltantes usando la mediana en columnas numéricas\n",
    "df[numerical_columns] = df[numerical_columns].fillna(df[numerical_columns].median())\n",
    "\n",
    "# Verificación después de la imputación\n",
    "print(\"Valores faltantes después de la imputación:\")\n",
    "print(df.isnull().sum())\n"
   ]
  },
  {
   "cell_type": "code",
   "execution_count": 33,
   "metadata": {},
   "outputs": [
    {
     "name": "stdout",
     "output_type": "stream",
     "text": [
      "Nombres de todas las columnas en el DataFrame:\n",
      "Index(['ID', 'Name', 'Price', 'Brand', 'Model', 'Variant', 'Series', 'Year',\n",
      "       'Kilometers', 'Type', 'Fuel', 'Status', 'CC', 'Color',\n",
      "       'Seating Capacity', 'Age', 'Price_to_Age_ratio', 'Kilometers_per_CC',\n",
      "       'Age_category_Semi-Nuevo', 'Age_category', 'Gearbox_Automatic',\n",
      "       'Gearbox_Front', 'Gearbox_Manual', 'Gearbox_Rear'],\n",
      "      dtype='object')\n"
     ]
    }
   ],
   "source": [
    "# Verificar todos los nombres de las columnas en el DataFrame\n",
    "print(\"Nombres de todas las columnas en el DataFrame:\")\n",
    "print(df.columns)"
   ]
  },
  {
   "cell_type": "code",
   "execution_count": 11,
   "metadata": {},
   "outputs": [
    {
     "data": {
      "image/png": "[encoded data removed]",
      "text/plain": [
       "<Figure size 1000x600 with 1 Axes>"
      ]
     },
     "metadata": {},
     "output_type": "display_data"
    }
   ],
   "source": [
    "#  outliers utilizando boxplot para la columna 'Price'\n",
    "plt.figure(figsize=(10, 6))\n",
    "sns.boxplot(x=df['Price'])\n",
    "plt.title('Detección de Outliers en Precio')\n",
    "plt.xlabel('Precio (Price)')\n",
    "plt.grid(True)\n",
    "plt.show()"
   ]
  },
  {
   "cell_type": "code",
   "execution_count": 13,
   "metadata": {},
   "outputs": [
    {
     "name": "stdout",
     "output_type": "stream",
     "text": [
      "\n",
      "Número de registros después de eliminar outliers: 16541\n"
     ]
    }
   ],
   "source": [
    "# Tratamiento de outliers eliminando los que están fuera de 3 desviaciones estándar\n",
    "z_scores = np.abs(stats.zscore(df['Price']))\n",
    "df_filtered = df[(z_scores < 3)]\n",
    "\n",
    "# verificamos de los datos después del tratamiento de outliers\n",
    "print(\"\\nNúmero de registros después de eliminar outliers:\", len(df_filtered))"
   ]
  },
  {
   "cell_type": "code",
   "execution_count": 17,
   "metadata": {},
   "outputs": [
    {
     "name": "stdout",
     "output_type": "stream",
     "text": [
      "    Price  Price_scaled  Price_normalized\n",
      "0    9999     -1.120060          0.071032\n",
      "1  117990      3.778787          0.923435\n",
      "2   79990      2.054975          0.623490\n",
      "3   34990      0.013619          0.268293\n",
      "4   15990     -0.848287          0.118320\n"
     ]
    }
   ],
   "source": [
    "# Nos aseguramos de usar el DataFrame sin outliers \n",
    "df_filtered = df[(np.abs(stats.zscore(df['Price'])) < 3)].copy()\n",
    "\n",
    "# Estandarización (Z-score) .loc para evitar el warning SettingWithCopyWarning\n",
    "scaler = StandardScaler()\n",
    "df_filtered.loc[:, 'Price_scaled'] = scaler.fit_transform(df_filtered[['Price']])\n",
    "\n",
    "# Normalización (Min-Max Scaling) .loc para evitar el warning SettingWithCopyWarning\n",
    "min_max_scaler = MinMaxScaler()\n",
    "df_filtered.loc[:, 'Price_normalized'] = min_max_scaler.fit_transform(df_filtered[['Price']])\n",
    "\n",
    "# Mostrar las primeras filas de las columnas originales y transformadas\n",
    "print(df_filtered[['Price', 'Price_scaled', 'Price_normalized']].head())"
   ]
  },
  {
   "cell_type": "code",
   "execution_count": 29,
   "metadata": {},
   "outputs": [
    {
     "name": "stdout",
     "output_type": "stream",
     "text": [
      "   Price_to_Age_ratio  Kilometers_per_CC Age_category\n",
      "0          714.214286         111.346317      Antiguo\n",
      "1        39330.000000           0.008866   Semi-Nuevo\n",
      "2        26663.333333           0.011199   Semi-Nuevo\n",
      "3         2499.285714          56.266449      Antiguo\n",
      "4         1998.750000          40.370824      Antiguo\n"
     ]
    }
   ],
   "source": [
    "# Ingeniería de Características: Crear nuevas variables\n",
    "# Calcular la antigüedad del vehículo\n",
    "df['Age'] = 2024 - df['Year']\n",
    "\n",
    "# Crear nuevas características relacionadas\n",
    "# Relación precio a edad\n",
    "df['Price_to_Age_ratio'] = df.apply(lambda x: x['Price'] / x['Age'] if x['Age'] > 0 else 0, axis=1)\n",
    "\n",
    "# Kilómetros por cilindrada\n",
    "df['Kilometers_per_CC'] = df.apply(lambda x: x['Kilometers'] / x['CC'] if x['CC'] > 0 else 0, axis=1)\n",
    "\n",
    "# Categoría de edad\n",
    "df['Age_category'] = df['Age'].apply(lambda x: 'Nuevo' if x <= 1 else ('Semi-Nuevo' if x <= 5 else 'Antiguo'))\n",
    "\n",
    "# Mostrar las primeras filas de las nuevas características\n",
    "print(df[['Price_to_Age_ratio', 'Kilometers_per_CC', 'Age_category']].head())\n",
    "\n",
    "# Aplicar One-Hot Encoding a la columna 'Gearbox'\n",
    "df = pd.get_dummies(df, columns=['Gearbox'], drop_first=True)\n"
   ]
  },
  {
   "cell_type": "code",
   "execution_count": 34,
   "metadata": {},
   "outputs": [
    {
     "name": "stdout",
     "output_type": "stream",
     "text": [
      "\n",
      "Primeras filas del DataFrame con One-Hot Encoding para 'Gearbox':\n",
      "   Price_to_Age_ratio  Kilometers_per_CC Age_category  Gearbox_Manual  \\\n",
      "0          714.214286         111.346317      Antiguo           False   \n",
      "1        39330.000000           0.008866   Semi-Nuevo           False   \n",
      "2        26663.333333           0.011199   Semi-Nuevo           False   \n",
      "3         2499.285714          56.266449      Antiguo           False   \n",
      "4         1998.750000          40.370824      Antiguo           False   \n",
      "\n",
      "   Gearbox_Automatic  Gearbox_Front  Gearbox_Manual  Gearbox_Rear  \n",
      "0               True          False           False         False  \n",
      "1               True          False           False         False  \n",
      "2               True          False           False         False  \n",
      "3               True          False           False         False  \n",
      "4               True          False           False         False  \n"
     ]
    }
   ],
   "source": [
    "# Mostrar las primeras filas del DataFrame con la nueva columna codificada\n",
    "print(\"\\nPrimeras filas del DataFrame con One-Hot Encoding para 'Gearbox':\")\n",
    "print(df[['Price_to_Age_ratio', 'Kilometers_per_CC', 'Age_category', 'Gearbox_Manual','Gearbox_Automatic',\n",
    "       'Gearbox_Front', 'Gearbox_Manual', 'Gearbox_Rear']].head())\n"
   ]
  },
  {
   "cell_type": "code",
   "execution_count": 35,
   "metadata": {},
   "outputs": [
    {
     "name": "stdout",
     "output_type": "stream",
     "text": [
      "\n",
      "Nombres de todas las columnas del DataFrame:\n",
      "Index(['ID', 'Name', 'Price', 'Brand', 'Model', 'Variant', 'Series', 'Year',\n",
      "       'Kilometers', 'Type', 'Fuel', 'Status', 'CC', 'Color',\n",
      "       'Seating Capacity', 'Age', 'Price_to_Age_ratio', 'Kilometers_per_CC',\n",
      "       'Age_category_Semi-Nuevo', 'Age_category', 'Gearbox_Automatic',\n",
      "       'Gearbox_Front', 'Gearbox_Manual', 'Gearbox_Rear'],\n",
      "      dtype='object')\n"
     ]
    }
   ],
   "source": [
    "# Listar todos los nombres de columnas del DataFrame\n",
    "print(\"\\nNombres de todas las columnas del DataFrame:\")\n",
    "print(df.columns)"
   ]
  },
  {
   "cell_type": "code",
   "execution_count": 36,
   "metadata": {},
   "outputs": [
    {
     "name": "stdout",
     "output_type": "stream",
     "text": [
      "\n",
      "Valores únicos en la columna 'Gearbox':\n",
      "['Automatic' 'Manual' 'Front' 'AWD' 'Rear']\n"
     ]
    }
   ],
   "source": [
    "# Verificar valores únicos en la columna 'Gearbox' para entender mejor las categorías\n",
    "print(\"\\nValores únicos en la columna 'Gearbox':\")\n",
    "print(df_original['Gearbox'].unique())"
   ]
  },
  {
   "cell_type": "code",
   "execution_count": 37,
   "metadata": {},
   "outputs": [
    {
     "name": "stdout",
     "output_type": "stream",
     "text": [
      "\n",
      "Estadísticas descriptivas de las nuevas variables:\n",
      "       Price_to_Age_ratio  Kilometers_per_CC\n",
      "count        17048.000000       17048.000000\n",
      "mean          7759.917674          43.567146\n",
      "std          10663.148624          33.684240\n",
      "min             41.666667           0.000464\n",
      "25%           1726.568182          18.664621\n",
      "50%           4300.000000          37.393430\n",
      "75%           8722.000000          61.855995\n",
      "max         149995.000000         772.753291\n"
     ]
    }
   ],
   "source": [
    "# Ver estadísticas descriptivas de las nuevas variables\n",
    "print(\"\\nEstadísticas descriptivas de las nuevas variables:\")\n",
    "print(df[['Price_to_Age_ratio', 'Kilometers_per_CC']].describe())\n"
   ]
  },
  {
   "cell_type": "code",
   "execution_count": 38,
   "metadata": {},
   "outputs": [
    {
     "name": "stdout",
     "output_type": "stream",
     "text": [
      "\n",
      "Antes del preprocesamiento:\n",
      "                 ID          Price          Year    Kilometers            CC  \\\n",
      "count  1.704800e+04   17048.000000  17048.000000  1.704800e+04  17048.000000   \n",
      "mean   1.279027e+07   36777.778038   2015.481288  1.032314e+05   2491.830303   \n",
      "std    5.051111e+04   30305.015328      4.721591  8.041313e+04    881.985562   \n",
      "min    1.153013e+07    1000.000000   1989.000000  1.000000e+00    875.000000   \n",
      "25%    1.275715e+07   18800.000000   2013.000000  4.450225e+04   1987.000000   \n",
      "50%    1.280207e+07   29990.000000   2016.000000  8.845400e+04   2354.000000   \n",
      "75%    1.283131e+07   45990.000000   2019.000000  1.488735e+05   2981.000000   \n",
      "max    1.285246e+07  999000.000000   2022.000000  2.700000e+06   7300.000000   \n",
      "\n",
      "       Seating Capacity  \n",
      "count      17048.000000  \n",
      "mean           5.115849  \n",
      "std            1.121791  \n",
      "min            2.000000  \n",
      "25%            5.000000  \n",
      "50%            5.000000  \n",
      "75%            5.000000  \n",
      "max           14.000000  \n",
      "\n",
      "Después del preprocesamiento:\n",
      "                 ID          Price          Year    Kilometers            CC  \\\n",
      "count  1.704800e+04   17048.000000  17048.000000  1.704800e+04  17048.000000   \n",
      "mean   1.279027e+07   36777.778038   2015.481288  1.032314e+05   2491.830303   \n",
      "std    5.051111e+04   30305.015328      4.721591  8.041313e+04    881.985562   \n",
      "min    1.153013e+07    1000.000000   1989.000000  1.000000e+00    875.000000   \n",
      "25%    1.275715e+07   18800.000000   2013.000000  4.450225e+04   1987.000000   \n",
      "50%    1.280207e+07   29990.000000   2016.000000  8.845400e+04   2354.000000   \n",
      "75%    1.283131e+07   45990.000000   2019.000000  1.488735e+05   2981.000000   \n",
      "max    1.285246e+07  999000.000000   2022.000000  2.700000e+06   7300.000000   \n",
      "\n",
      "       Seating Capacity           Age  Price_to_Age_ratio  Kilometers_per_CC  \n",
      "count      17048.000000  17048.000000        17048.000000       17048.000000  \n",
      "mean           5.115849      8.518712         7759.917674          43.567146  \n",
      "std            1.121791      4.721591        10663.148624          33.684240  \n",
      "min            2.000000      2.000000           41.666667           0.000464  \n",
      "25%            5.000000      5.000000         1726.568182          18.664621  \n",
      "50%            5.000000      8.000000         4300.000000          37.393430  \n",
      "75%            5.000000     11.000000         8722.000000          61.855995  \n",
      "max           14.000000     35.000000       149995.000000         772.753291  \n"
     ]
    }
   ],
   "source": [
    "# Comparación de las estadísticas antes y después del preprocesamiento\n",
    "print(\"\\nAntes del preprocesamiento:\")\n",
    "print(df_original.describe())\n",
    "\n",
    "print(\"\\nDespués del preprocesamiento:\")\n",
    "print(df.describe())"
   ]
  }
 ],
 "metadata": {
  "kernelspec": {
   "display_name": "Python 3",
   "language": "python",
   "name": "python3"
  },
  "language_info": {
   "codemirror_mode": {
    "name": "ipython",
    "version": 3
   },
   "file_extension": ".py",
   "mimetype": "text/x-python",
   "name": "python",
   "nbconvert_exporter": "python",
   "pygments_lexer": "ipython3",
   "version": "3.12.3"
  }
 },
 "nbformat": 4,
 "nbformat_minor": 2
}
